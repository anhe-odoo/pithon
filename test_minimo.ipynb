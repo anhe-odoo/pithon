{
 "cells": [
  {
   "cell_type": "markdown",
   "id": "f7a9b18c-0e53-4c3e-923b-a6e9d60f95ed",
   "metadata": {
    "tags": []
   },
   "source": [
    "# $\\pi$thon : Extension de la syntaxe de base du python"
   ]
  },
  {
   "cell_type": "markdown",
   "id": "8379e9a9-6704-4c47-b169-94690d400e22",
   "metadata": {
    "jp-MarkdownHeadingCollapsed": true,
    "tags": []
   },
   "source": [
    "## Table des matières"
   ]
  },
  {
   "cell_type": "markdown",
   "id": "3de24df9-c374-4e41-a6ba-7bb31b4d4a06",
   "metadata": {},
   "source": [
    "* [1 - Utilisation de macro](#chapter1)\n",
    "    * [1.1 - Definition de variable pour le preproc](#section1_1)\n",
    "* [2 - Ecritures mathématiques](#chapter2)\n",
    "    * [2.1 - Notations mathématiques de intervalles](#section2_1)\n",
    "    * [2.2 - Définition mathématique des fonctions](#section2_2)\n",
    "* [3 - Extensions des boucles](#chapter3)\n",
    "    * [3.1 - Utilisation de FROM ... TO](#section3_1)\n",
    "    * [3.2 - La boucle REPEAT ... UNTIL](#section3_2)\n",
    "* [4 - Extensions des structures conditionnelles](#chapter4)\n",
    "    * [4.1 - La structure SELECT - CASE](#section5_1)\n",
    "* [5 - Ajout de nouveaux opérateurs](#chapter5)\n",
    "    * [5.1 - Opérateur ternaire](#section5_1)"
   ]
  },
  {
   "cell_type": "markdown",
   "id": "656269c6-7a07-44a5-85a2-7c819c8dd8f7",
   "metadata": {
    "jp-MarkdownHeadingCollapsed": true,
    "tags": []
   },
   "source": [
    "## Symboles supplémentaires introduits"
   ]
  },
  {
   "cell_type": "markdown",
   "id": "9873005b-5314-4144-82ca-00196da7e022",
   "metadata": {},
   "source": [
    "≡ | ≤ | ≥ | ≠ | √ | → | ∞ | · | ∏ | ∑ | ⌊ ⌋ | ⌈ ⌉ | ⟨ ⟩ | ∀ | ∈ | ∉ |\n",
    "\n",
    "₀ | ₁ | ₂ | ₃ | ₄ | ₅ | ₆ | ₇ | ₈ | ₉ | ₊ | ₋ |   | ₕ | ₖ | ₗ | ₘ | ₙ | ₚ | ₛ | ₜ |\n",
    "\n",
    "⁰ | ¹ | ² | ³ | ⁴ | ⁵ | ⁶ | ⁷ | ⁸ | ⁹ | ⁺ | ⁻ | ⁱ |\n",
    "\n",
    "Α | Β | Γ | Δ | Ε | Ζ | Η | Θ | Ι | Κ | Λ | Μ | Ν | Ξ | Ο | Π | Ρ |  Σ  | Τ | Υ |  Φ  | Χ | Ψ | Ω\n",
    "\n",
    "α | β | γ | δ | ε | ζ | η | θ | ι | κ | λ | μ | ν | ξ | ο | π | ρ | σ/ς | τ | υ | φ/ϕ | χ | ψ | ω\n",
    "\n",
    "≡ | ≤ | ≥ | ≠ | √ | → | ∞ | · | ∏ | ∑ | ⌊ ⌋ | ⌈ ⌉ | ⟨ ⟩ | ∀ | ∈ | ∉ |\n",
    "\n",
    "₀ | ₁ | ₂ | ₃ | ₄ | ₅ | ₆ | ₇ | ₈ | ₉ | ₊ | ₋ |   | ₕ | ₖ | ₗ | ₘ | ₙ | ₚ | ₛ | ₜ |\n",
    "\n",
    "⁰ | ¹ | ² | ³ | ⁴ | ⁵ | ⁶ | ⁷ | ⁸ | ⁹ | ⁺ | ⁻ | ⁱ |\n",
    "\n",
    "Α | Β | Γ | Δ | Ε | Ζ | Η | Θ | Ι | Κ | Λ | Μ | Ν | Ξ | Ο | Π | Ρ |  Σ  | Τ | Υ |  Φ  | Χ | Ψ | Ω\n",
    "\n",
    "α | β | γ | δ | ε | ζ | η | θ | ι | κ | λ | μ | ν | ξ | ο | π | ρ | σ/ς | τ | υ | φ/ϕ | χ | ψ | ω"
   ]
  },
  {
   "cell_type": "markdown",
   "id": "a27ba06c-9796-46a0-a3dd-e5eed729b470",
   "metadata": {
    "tags": []
   },
   "source": [
    "## 1 - Utilisation de macro <a class=\"anchor\" id=\"chapter1\"></a>\n",
    "### 1.1 - Definition de variables/fonctions pour le preprocesseur <a class=\"anchor\" id=\"section1_1\"></a>"
   ]
  },
  {
   "cell_type": "code",
   "execution_count": 1,
   "id": "874a4273-5da8-42f1-81b4-71883bba6982",
   "metadata": {},
   "outputs": [
    {
     "name": "stdout",
     "output_type": "stream",
     "text": [
      "6.2831853072\n"
     ]
    }
   ],
   "source": [
    "# define PI      3.1415926536\n",
    "# define area(r) 2*PI*r**2\n",
    "\n",
    "rayon = 1.0\n",
    "print(area(rayon))"
   ]
  },
  {
   "cell_type": "markdown",
   "id": "6e03327c-a401-4b18-9218-84f0afa131db",
   "metadata": {
    "tags": []
   },
   "source": [
    "## 2 - Ecritures mathématiques <a class=\"anchor\" id=\"chapter2\"></a>"
   ]
  },
  {
   "cell_type": "markdown",
   "id": "1bc4650f-d193-4267-908b-eca585018fe4",
   "metadata": {},
   "source": [
    "### 2.1 - Notations mathématiques des bornes <a class=\"anchor\" id=\"section2_1\"></a>"
   ]
  },
  {
   "cell_type": "code",
   "execution_count": 1,
   "id": "52bd968e-a050-4a82-8757-e5bdbcba474f",
   "metadata": {},
   "outputs": [
    {
     "name": "stdout",
     "output_type": "stream",
     "text": [
      "[0, 1, 2, 3, 4, 5, 6, 7, 8, 9, 10]\n",
      "[1, 2, 3, 4, 5, 6, 7, 8, 9, 10]\n",
      "[0, 1, 2, 3, 4, 5, 6, 7, 8, 9]\n",
      "[1, 2, 3, 4, 5, 6, 7, 8, 9]\n"
     ]
    }
   ],
   "source": [
    "print( [ i for i in [0..10] ] )\n",
    "print( [ i for i in ]0..10] ] )\n",
    "print( [ i for i in [0..10[ ] )\n",
    "print( [ i for i in ]0..10[ ] )"
   ]
  },
  {
   "cell_type": "markdown",
   "id": "7c0e9bd8-2676-4655-98a8-adcaa7ad04d6",
   "metadata": {},
   "source": [
    "### 2.2 - Intervalles conditionnels <a class=\"anchor\" id=\"section2_2\"></a>"
   ]
  },
  {
   "cell_type": "code",
   "execution_count": 3,
   "id": "bcec422f-8100-4826-869c-99a3963573f8",
   "metadata": {},
   "outputs": [
    {
     "name": "stdout",
     "output_type": "stream",
     "text": [
      "[4, 16, 36, 64, 100]\n"
     ]
    }
   ],
   "source": [
    "print([\n",
    "  i**2 ∀ i ∈ [1..10] | ~(i%2)\n",
    "])"
   ]
  },
  {
   "cell_type": "markdown",
   "id": "fa99898f-d79f-4459-91fd-20dcbeba751a",
   "metadata": {},
   "source": [
    "### 2.3 - Définition mathématique des fonctions $\\lambda$ <a class=\"anchor\" id=\"section2_3\"></a>"
   ]
  },
  {
   "cell_type": "code",
   "execution_count": 1,
   "id": "4f787857-535c-4e72-b0cb-b95a6e223153",
   "metadata": {},
   "outputs": [
    {
     "name": "stdout",
     "output_type": "stream",
     "text": [
      "         * \n",
      "        * * \n",
      "       * * * \n",
      "      * * * * \n",
      "     * * * * * \n",
      "    * * * * * * \n",
      "   * * * * * * * \n",
      "  * * * * * * * * \n",
      " * * * * * * * * * \n",
      "* * * * * * * * * * \n"
     ]
    }
   ],
   "source": [
    "sapin = n → (\n",
    "    \"\\n\".join(\" \"*(n-i)+\"* \"*i ∀ i ∈ [1..n])\n",
    ")\n",
    "print(sapin(10))"
   ]
  },
  {
   "cell_type": "markdown",
   "id": "9d4d6e6c-afc2-48ef-b8dd-2d3b0b17d06b",
   "metadata": {},
   "source": [
    "### 2.4 Utilisation des variables grecques\n",
    "$\\pi$-thon permet d'utiliser des variables contenant les lettres grecques suivantes :\n",
    "\n",
    "* Α, Β, Γ, Δ, Ε, Ζ, Η, Θ, Ι, Κ, Λ, Μ, Ν, Ξ, Ο, Π, Ρ, Σ, Τ, Υ, Φ, Χ, Ψ, Ω\n",
    "\n",
    "* α, β, γ, δ, ε, ζ, η, θ, ι, κ, λ, μ, ν, ξ, ο, π, ρ, σ/ς, τ, υ, φ/ϕ, χ, ψ, ω"
   ]
  },
  {
   "cell_type": "code",
   "execution_count": 5,
   "id": "b0b8c28a-4109-4916-8d05-d5cd54736d7f",
   "metadata": {},
   "outputs": [
    {
     "name": "stdout",
     "output_type": "stream",
     "text": [
      "1.5\n"
     ]
    }
   ],
   "source": [
    "α = 5.0\n",
    "β = 3.5\n",
    "Δ = α - β\n",
    "print(Δ)"
   ]
  },
  {
   "cell_type": "code",
   "execution_count": 6,
   "id": "80a93f3f-eaaa-4fe9-a759-506a1003cdb1",
   "metadata": {},
   "outputs": [
    {
     "name": "stdout",
     "output_type": "stream",
     "text": [
      "1024\n"
     ]
    }
   ],
   "source": [
    "print(2¹⁰)"
   ]
  },
  {
   "cell_type": "markdown",
   "id": "7fc55304-233f-4967-93ab-812012e9b603",
   "metadata": {
    "tags": []
   },
   "source": [
    "## 3 - Extension des boucles <a class=\"anchor\" id=\"chapter3\">\n",
    "### 3.1 - Utilisation de FROM ... TO ... <a class=\"anchor\" id=\"section3_1\"></a>"
   ]
  },
  {
   "cell_type": "code",
   "execution_count": 1,
   "id": "b8b04111-015f-43a4-becc-49546f97fda6",
   "metadata": {},
   "outputs": [
    {
     "name": "stdout",
     "output_type": "stream",
     "text": [
      "1\n",
      "2\n",
      "3\n",
      "4\n",
      "5\n"
     ]
    }
   ],
   "source": [
    "for i from 1 to 5 :\n",
    "    print(i)"
   ]
  },
  {
   "cell_type": "markdown",
   "id": "8387cb1f-a99e-4939-8210-df5e98a261a3",
   "metadata": {},
   "source": [
    "### 3.2 - La boucle REPEAT ... UNTIL <a class=\"anchor\" id=\"section3_2\"></a>"
   ]
  },
  {
   "cell_type": "code",
   "execution_count": 1,
   "id": "57286948-3075-4b83-8978-5e85eca62667",
   "metadata": {},
   "outputs": [
    {
     "name": "stdout",
     "output_type": "stream",
     "text": [
      "0\n",
      "2\n",
      "4\n",
      "6\n",
      "8\n",
      "10\n"
     ]
    }
   ],
   "source": [
    "i = 0\n",
    "repeat:\n",
    "    print(2*i)\n",
    "    i = i + 1\n",
    "until i > 5"
   ]
  },
  {
   "cell_type": "markdown",
   "id": "196bd1ed-0cb7-47e9-9d81-7310e6405850",
   "metadata": {},
   "source": [
    "## 4 - Ajout de structures conditionnelles </a><a class=\"anchor\" id=\"chapter4\"></a>\n",
    "### 4.1 - Structure SELECT ... CASE <a class=\"anchor\" id=\"section4_1\"></a>"
   ]
  },
  {
   "cell_type": "code",
   "execution_count": 1,
   "id": "6774309c-f54c-4231-848e-7c3cad99b621",
   "metadata": {},
   "outputs": [
    {
     "name": "stdout",
     "output_type": "stream",
     "text": [
      "premier cas\n",
      "deuxieme cas\n",
      "cas generique\n"
     ]
    }
   ],
   "source": [
    "for a in [5, 30, 25] :\n",
    "    select a :\n",
    "        case 5:\n",
    "            print(\"premier cas\")\n",
    "        case 30:\n",
    "            print(\"deuxieme cas\")\n",
    "        default:\n",
    "            print(\"cas generique\")"
   ]
  },
  {
   "cell_type": "markdown",
   "id": "95fa70dd-0cea-4086-baff-3bc6c3eae289",
   "metadata": {},
   "source": [
    "## 5 - Ajout de nouveaux opérateurs <a class=\"anchor\" id=\"chapter5\"></a>\n",
    "### 5.1 - Opérateur ternaire <a class=\"anchor\" id=\"section5_1\"></a>"
   ]
  },
  {
   "cell_type": "code",
   "execution_count": 10,
   "id": "683c8f65-3591-4ba0-8f5e-77f965b4918a",
   "metadata": {},
   "outputs": [
    {
     "name": "stdout",
     "output_type": "stream",
     "text": [
      "25 10\n"
     ]
    }
   ],
   "source": [
    "a = 25\n",
    "b = (a > 20 ? 10 : 5)\n",
    "print(a, b)"
   ]
  },
  {
   "cell_type": "markdown",
   "id": "53c700b9-f321-4e57-9c16-c72bd2df0f2c",
   "metadata": {},
   "source": [
    "### 5.2 - Incrémentation et décrémentation"
   ]
  },
  {
   "cell_type": "code",
   "execution_count": 11,
   "id": "9a86b968-3ad7-4935-8e48-3350e2ef0274",
   "metadata": {},
   "outputs": [
    {
     "name": "stdout",
     "output_type": "stream",
     "text": [
      "6 5\n"
     ]
    }
   ],
   "source": [
    "a = 5\n",
    "b = 6\n",
    "a++\n",
    "b--\n",
    "print(a, b)"
   ]
  },
  {
   "cell_type": "markdown",
   "id": "4a326f46-c90e-4ff6-b892-547661c7b43f",
   "metadata": {},
   "source": [
    "### 5.3 Produit scalaire (array ou tuple)"
   ]
  },
  {
   "cell_type": "code",
   "execution_count": 12,
   "id": "2a875842-be2e-4069-86f2-2fb3c62c61ba",
   "metadata": {},
   "outputs": [
    {
     "name": "stdout",
     "output_type": "stream",
     "text": [
      "20\n"
     ]
    }
   ],
   "source": [
    "a = (1, 2, 3);\n",
    "b = [2, 3, 4];\n",
    "print(a o b)"
   ]
  },
  {
   "cell_type": "markdown",
   "id": "007fafe6-6d63-4c77-b9e5-caff5e8111ac",
   "metadata": {},
   "source": [
    "### 5.4 Produit vectoriel"
   ]
  },
  {
   "cell_type": "code",
   "execution_count": 13,
   "id": "fba4015f-492e-4d5e-8ebb-b054e11afae4",
   "metadata": {},
   "outputs": [
    {
     "name": "stdout",
     "output_type": "stream",
     "text": [
      "[-12, 0, 4]\n"
     ]
    }
   ],
   "source": [
    "u = [1, 0, 3]\n",
    "v = [2, 4, 6]\n",
    "print(u x v)"
   ]
  },
  {
   "cell_type": "markdown",
   "id": "24561986-f396-4546-a0d5-a5009885ad01",
   "metadata": {},
   "source": [
    "## Divers\n",
    "### Possibilité d'exécuter le code comme du python classique :"
   ]
  },
  {
   "cell_type": "code",
   "execution_count": 14,
   "id": "9a9e686f-c3b3-4c56-97f0-24349d993aed",
   "metadata": {},
   "outputs": [
    {
     "name": "stdout",
     "output_type": "stream",
     "text": [
      "10\n"
     ]
    }
   ],
   "source": [
    "//@pi-ignore\n",
    "x = 5\n",
    "o = 2\n",
    "print(5*2)"
   ]
  },
  {
   "cell_type": "code",
   "execution_count": 15,
   "id": "45865bf9-4b19-41fb-ba54-551d75297f2f",
   "metadata": {},
   "outputs": [
    {
     "name": "stdout",
     "output_type": "stream",
     "text": [
      "inf\n",
      "2.23606797749979\n"
     ]
    }
   ],
   "source": [
    "a = ∞\n",
    "\n",
    "print(a)\n",
    "print(√(5))"
   ]
  }
 ],
 "metadata": {
  "kernelspec": {
   "display_name": "Plotter",
   "language": "python",
   "name": "plotter"
  },
  "language_info": {
   "extension": ".py",
   "mimetype": "text/plain",
   "name": "plotter"
  }
 },
 "nbformat": 4,
 "nbformat_minor": 5
}
